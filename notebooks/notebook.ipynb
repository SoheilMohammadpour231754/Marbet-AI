{
 "cells": [
  {
   "cell_type": "code",
   "execution_count": 1,
   "metadata": {},
   "outputs": [],
   "source": [
    "# Change path to parent directory\n",
    "!cd .."
   ]
  },
  {
   "cell_type": "code",
   "execution_count": 2,
   "metadata": {},
   "outputs": [
    {
     "name": "stderr",
     "output_type": "stream",
     "text": [
      "python: can't open file 'c:\\Users\\Soheil\\Desktop\\RAG University\\notebooks\\main.py': [Errno 2] No such file or directory\n"
     ]
    }
   ],
   "source": [
    "# Run the script to generate the dataset\n",
    "!python main.py"
   ]
  },
  {
   "cell_type": "code",
   "execution_count": null,
   "metadata": {},
   "outputs": [],
   "source": []
  },
  {
   "cell_type": "code",
   "execution_count": null,
   "metadata": {},
   "outputs": [],
   "source": []
  },
  {
   "cell_type": "code",
   "execution_count": null,
   "metadata": {},
   "outputs": [],
   "source": []
  },
  {
   "cell_type": "code",
   "execution_count": null,
   "metadata": {},
   "outputs": [],
   "source": [
    "1"
   ]
  },
  {
   "cell_type": "code",
   "execution_count": 1,
   "metadata": {},
   "outputs": [
    {
     "ename": "",
     "evalue": "",
     "output_type": "error",
     "traceback": [
      "\u001b[1;31mFailed to start the Kernel 'llm (Python 3.9.21)'. \n",
      "\u001b[1;31mView Jupyter <a href='command:jupyter.viewOutput'>log</a> for further details. WebSocket is not defined"
     ]
    }
   ],
   "source": [
    "from ollama import Client \n",
    "ollama_client = Client(host=\"http://194.171.191.226:3061\")  \n",
    "ollama_client.list()  "
   ]
  },
  {
   "cell_type": "code",
   "execution_count": 2,
   "metadata": {},
   "outputs": [],
   "source": [
    "# ollama_client.pull(\"gemma3:27b\")"
   ]
  },
  {
   "cell_type": "code",
   "execution_count": 3,
   "metadata": {},
   "outputs": [],
   "source": [
    "model_name = \"deepseek-r1:32b\""
   ]
  },
  {
   "cell_type": "code",
   "execution_count": 6,
   "metadata": {},
   "outputs": [
    {
     "data": {
      "text/plain": [
       "ProgressResponse(status='success', completed=None, total=None, digest=None)"
      ]
     },
     "execution_count": 6,
     "metadata": {},
     "output_type": "execute_result"
    }
   ],
   "source": [
    "ollama_client.pull(model_name)"
   ]
  },
  {
   "cell_type": "code",
   "execution_count": 7,
   "metadata": {},
   "outputs": [
    {
     "name": "stdout",
     "output_type": "stream",
     "text": [
      "<think>\n",
      "Okay, so I'm trying to figure out why the sky is blue. I remember learning something about this in school, but it's been a while, and I want to make sure I understand it properly. Let me start by recalling what I know.\n",
      "\n",
      "I think it has something to do with how light from the sun interacts with the Earth's atmosphere. The sun emits white light, which is made up of all the colors of the rainbow. But when that light reaches our atmosphere, something happens to make us see blue instead of just white or another color.\n",
      "\n",
      "Wait, isn't this called Rayleigh scattering? I think that's what it's called when light scatters in the atmosphere. Rayleigh scattering occurs when the wavelength of the light is similar to the size of the particles in the medium, which in this case are molecules and small particles in the air. So shorter wavelengths like blue and violet are scattered more than longer ones like red or orange.\n",
      "\n",
      "But why don't we see violet then? Since violet has an even shorter wavelength than blue, it should scatter more, right? Maybe our eyes are less sensitive to violet light compared to blue. The cones in our eyes have different sensitivities for colors, so even though violet is scattered a lot, we perceive the sky as blue because our eyes are more responsive to blue wavelengths.\n",
      "\n",
      "Another thing I remember is that during sunrise or sunset, the sky often appears red or orange. That's because when the sun is lower on the horizon, the light has to pass through more of the Earth's atmosphere. The shorter blue and violet wavelengths get scattered out of the line of sight, so we're left with the longer wavelengths like red and orange.\n",
      "\n",
      "So putting it all together: sunlight enters the atmosphere, interacts with molecules and particles, and the shorter blue wavelengths are scattered in all directions. We see this scattered light from all over the sky, making it appear blue. Our eyes being more sensitive to blue plays a role too, so we don't perceive as much violet.\n",
      "\n",
      "I wonder if there's any other factor that contributes to this effect. Maybe pollution or particles in the air can affect the color of the sky? For instance, on hazy days, the sky might look whitish because larger particles scatter all wavelengths more equally, reducing the blue appearance. That makes sense because when particles are bigger than the wavelength of light, Mie scattering occurs instead, which scatters all colors similarly.\n",
      "\n",
      "Also, I've heard that if we were to view the Earth from space, without any atmosphere, the sky would look black even during the day, right? Because there's no air to scatter the sunlight. So the blue color is entirely due to our atmosphere.\n",
      "\n",
      "In summary, the key points are:\n",
      "1. Sunlight contains all colors of light.\n",
      "2. Rayleigh scattering causes shorter wavelengths (blue and violet) to scatter more in the atmosphere.\n",
      "3. Human eyes are more sensitive to blue than violet.\n",
      "4. The result is a blue sky during the day.\n",
      "5. Other factors like particle size can change how we perceive the sky's color.\n",
      "\n",
      "I think that covers it, but I might be missing something. Maybe polarization of light? Or other atmospheric phenomena? But for now, these points seem to explain why the sky appears blue.\n",
      "</think>\n",
      "\n",
      "The sky appears blue due to a phenomenon known as Rayleigh scattering. Here's a concise explanation:\n",
      "\n",
      "1. **Sunlight Composition**: Sunlight is composed of various colors, each with different wavelengths. Blue and violet light have shorter wavelengths compared to red or orange.\n",
      "\n",
      "2. **Rayleigh Scattering**: As sunlight enters Earth's atmosphere, it interacts with molecules and small particles. Rayleigh scattering occurs when the wavelength of light is similar in size to these atmospheric particles, causing shorter wavelengths (blue and violet) to scatter more than longer ones.\n",
      "\n",
      "3. **Human Eye Sensitivity**: Although violet light scatters more than blue, our eyes are less sensitive to violet. The cones in our eyes are more responsive to blue light, making the sky appear blue rather than violet.\n",
      "\n",
      "4. **Sky Color Variation**: During sunrise or sunset, sunlight travels through more atmosphere, scattering out shorter wavelengths. This leaves longer wavelengths like red and orange visible, resulting in colorful sunsets.\n",
      "\n",
      "5. **Atmospheric Role**: Without Earth's atmosphere, space would look black even during daylight. The presence of an atmosphere scatters light, creating the blue sky we see.\n",
      "\n",
      "In summary, the blue color of the sky is due to Rayleigh scattering of sunlight by atmospheric particles and our eyes' sensitivity to blue light.\n"
     ]
    }
   ],
   "source": [
    "response = ollama_client.chat(model=model_name, messages=[ \n",
    "  { \n",
    "    \"role\": \"user\", \n",
    "    \"content\": \"Why is the sky blue?\", \n",
    "  }, \n",
    "]) \n",
    "print(response[\"message\"][\"content\"])"
   ]
  },
  {
   "cell_type": "code",
   "execution_count": 8,
   "metadata": {},
   "outputs": [
    {
     "data": {
      "text/plain": [
       "AIMessage(content='<think>\\nAlright, I need to translate \"I love programming.\" from English to Dutch. Let me break it down.\\n\\nFirst, \"I\" in Dutch is \"Ik\". Next, \"love\" is \"houden van\" or sometimes just \"hou\" depending on the context. Then, \"programming\" can be translated as \"programmeren\".\\n\\nPutting it together, a natural way would be \"Ik hou van programmeren.\" That sounds correct and flows well in Dutch.\\n\\nI should make sure that the translation captures the same sentiment as the original sentence. It seems to convey the same enthusiasm about programming.\\n</think>\\n\\nIk hou van programmeren.', additional_kwargs={}, response_metadata={'model': 'deepseek-r1:32b', 'created_at': '2025-04-17T10:24:12.936826789Z', 'done': True, 'done_reason': 'stop', 'total_duration': 3934764866, 'load_duration': 55221506, 'prompt_eval_count': 23, 'prompt_eval_duration': 41493000, 'eval_count': 133, 'eval_duration': 3740885000, 'model_name': 'deepseek-r1:32b'}, id='run-5941225a-c7a7-40ed-b293-fe3992d114ad-0', usage_metadata={'input_tokens': 23, 'output_tokens': 133, 'total_tokens': 156})"
      ]
     },
     "execution_count": 8,
     "metadata": {},
     "output_type": "execute_result"
    }
   ],
   "source": [
    "from langchain_ollama import ChatOllama \n",
    "llm = ChatOllama( \n",
    "     base_url=\"http://194.171.191.226:3061\",    \n",
    "     model=model_name\n",
    ") \n",
    "messages = [ \n",
    "    ( \n",
    "        \"system\", \n",
    "        \"You are a helpful assistant that translates English to Dutch. Translate the user sentence.\", \n",
    "    ), \n",
    "    (\"human\", \"I love programming.\"), \n",
    "] \n",
    "ai_msg = llm.invoke(messages) \n",
    "ai_msg"
   ]
  },
  {
   "cell_type": "code",
   "execution_count": null,
   "metadata": {},
   "outputs": [],
   "source": []
  },
  {
   "cell_type": "code",
   "execution_count": null,
   "metadata": {},
   "outputs": [],
   "source": []
  }
 ],
 "metadata": {
  "kernelspec": {
   "display_name": "llm",
   "language": "python",
   "name": "python3"
  },
  "language_info": {
   "codemirror_mode": {
    "name": "ipython",
    "version": 3
   },
   "file_extension": ".py",
   "mimetype": "text/x-python",
   "name": "python",
   "nbconvert_exporter": "python",
   "pygments_lexer": "ipython3",
   "version": "3.9.21"
  }
 },
 "nbformat": 4,
 "nbformat_minor": 2
}
